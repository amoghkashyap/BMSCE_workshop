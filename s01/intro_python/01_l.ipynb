{
 "cells": [
  {
   "cell_type": "markdown",
   "metadata": {},
   "source": [
    "# Python’s strengths"
   ]
  },
  {
   "cell_type": "markdown",
   "metadata": {},
   "source": [
    "- **Batteries included** Rich collection of already existing bricks of classic numerical methods, plotting or data processing tools. We don’t want to re-program the plotting of a curve, a Fourier transform or a fitting algorithm. Don’t reinvent the wheel!\n",
    "- **Easy to learn** Most scientists are not payed as programmers, neither have they been trained so. They need to be able to draw a curve, smooth a signal, do a Fourier transform in a few minutes.\n",
    "- **Easy communication** To keep code alive within a lab or a company it should be as readable as a book by collaborators, students, or maybe customers. Python syntax is simple, avoiding strange symbols or lengthy routine specifications that would divert the reader from mathematical or scientific understanding of the code.\n",
    "- **Efficient code** Python numerical modules are computationally efficient. But needless to say that a very fast code becomes useless if too much time is spent writing it. Python aims for quick development times and quick execution times.\n",
    "- **Universal** Python is a language used for many different problems. Learning Python avoids learning a new software for each new problem."
   ]
  },
  {
   "cell_type": "markdown",
   "metadata": {},
   "source": [
    "# The Scientific Python ecosystem"
   ]
  },
  {
   "cell_type": "markdown",
   "metadata": {},
   "source": [
    "Unlike Matlab, or R, Python does not come with a pre-bundled set of modules for scientific computing. Below are the basic building blocks that can be combined to obtain a scientific computing environment:"
   ]
  },
  {
   "cell_type": "markdown",
   "metadata": {},
   "source": [
    "Python, a generic and modern computing language\n",
    "\n",
    "- The language: flow control, data types (string, int), data collections (lists, dictionaries), etc.\n",
    "- Modules of the standard library: string processing, file management, simple network protocols.\n",
    "- A large number of specialized modules or applications written in Python: web framework, etc. … and scientific computing.\n",
    "- Development tools (automatic testing, documentation generation)"
   ]
  },
  {
   "cell_type": "markdown",
   "metadata": {},
   "source": [
    "## Core numeric libraries\n",
    "- Numpy: numerical computing with powerful numerical arrays objects, and routines to manipulate them. http://www.numpy.org/\n",
    "- Scipy : high-level numerical routines. Optimization, regression, interpolation, etc http://www.scipy.org/\n",
    "- Matplotlib : 2-D visualization, “publication-ready” plots http://matplotlib.org/"
   ]
  },
  {
   "cell_type": "markdown",
   "metadata": {},
   "source": [
    "## Advanced interactive environments:\n",
    "- IPython, an advanced Python console http://ipython.org/\n",
    "- Jupyter, notebooks in the browser http://jupyter.org/"
   ]
  },
  {
   "cell_type": "markdown",
   "metadata": {},
   "source": [
    "# Before starting: Installing a working environment\n",
    "Python comes in many flavors, and there are many ways to install it. However, we recommend to install a scientific-computing distribution, that comes readily with optimized versions of scientific modules."
   ]
  },
  {
   "cell_type": "markdown",
   "metadata": {},
   "source": [
    "You should install Python 3\n",
    "Python 2.7 is end of life, and will not be maintained past January 1, 2020.\n",
    "\n",
    "Working with Python 2.7 is at your own risk. Do not expect much support."
   ]
  },
  {
   "cell_type": "markdown",
   "metadata": {},
   "source": [
    "## Interactive vs Modules in an editor"
   ]
  },
  {
   "cell_type": "markdown",
   "metadata": {},
   "source": [
    "- We recommend an interactive work with the IPython console, or its offspring, the Jupyter notebook. They are handy to explore and understand algorithms.\n",
    "- As you move forward, it will be important to not only work interactively, but also to create and reuse Python files. For this, a powerful code editor will get you far."
   ]
  }
 ],
 "metadata": {
  "kernelspec": {
   "display_name": "Python 3",
   "language": "python",
   "name": "python3"
  },
  "language_info": {
   "codemirror_mode": {
    "name": "ipython",
    "version": 3
   },
   "file_extension": ".py",
   "mimetype": "text/x-python",
   "name": "python",
   "nbconvert_exporter": "python",
   "pygments_lexer": "ipython3",
   "version": "3.6.3"
  }
 },
 "nbformat": 4,
 "nbformat_minor": 2
}
